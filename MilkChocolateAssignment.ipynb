{
 "cells": [
  {
   "cell_type": "code",
   "execution_count": 1,
   "metadata": {},
   "outputs": [
    {
     "name": "stdout",
     "output_type": "stream",
     "text": [
      "   Unnamed: 0        Date       Location  MinTemp  MaxTemp  Rainfall  \\\n",
      "0      110363  2014-01-25         Albany     18.4     26.8       0.2   \n",
      "1       22316  2012-05-12  NorfolkIsland     16.1     22.1       2.4   \n",
      "2       75456  2010-04-22       Portland     11.6     26.4       0.2   \n",
      "3       81222  2009-08-13       Dartmoor      6.8     16.5       0.8   \n",
      "4        1753  2013-12-17         Albury     16.9     34.0       0.0   \n",
      "\n",
      "   Evaporation  Sunshine WindGustDir  WindGustSpeed  ... Humidity9am  \\\n",
      "0          4.8       8.5         NaN            NaN  ...        59.0   \n",
      "1          4.2       8.7           S           31.0  ...        70.0   \n",
      "2          2.2      10.4           W           37.0  ...        72.0   \n",
      "3          1.4       6.7          NW           37.0  ...        99.0   \n",
      "4          NaN       NaN           N           30.0  ...        54.0   \n",
      "\n",
      "  Humidity3pm  Pressure9am  Pressure3pm  Cloud9am  Cloud3pm  Temp9am  Temp3pm  \\\n",
      "0        72.0       1014.9       1009.2       0.0       3.0     24.0     23.8   \n",
      "1        70.0       1020.2       1018.2       2.0       3.0     19.9     20.3   \n",
      "2        59.0       1018.4       1015.5       2.0       6.0     19.7     24.0   \n",
      "3        74.0       1015.0       1014.8       NaN       NaN      8.6     14.8   \n",
      "4        29.0       1019.5       1016.3       NaN       4.0     24.7     31.8   \n",
      "\n",
      "   RainToday  RainTomorrow  \n",
      "0         No            No  \n",
      "1        Yes            No  \n",
      "2         No           Yes  \n",
      "3         No            No  \n",
      "4         No            No  \n",
      "\n",
      "[5 rows x 24 columns]\n"
     ]
    }
   ],
   "source": [
    "\n",
    "import pandas as pd\n",
    "import numpy as np\n",
    "import seaborn as sns\n",
    "import matplotlib.pyplot as plt\n",
    "from sklearn.ensemble import RandomForestClassifier\n",
    "from sklearn.linear_model import LogisticRegression\n",
    "from sklearn.neighbors import KNeighborsClassifier\n",
    "from sklearn import metrics\n",
    "from sklearn.svm import SVC\n",
    "from sklearn.model_selection import cross_validate\n",
    "from sklearn.metrics import accuracy_score\n",
    "\n",
    "\n",
    "dataset = pd.read_csv ('weather_train.csv')\n",
    "print (dataset.head())"
   ]
  },
  {
   "cell_type": "markdown",
   "metadata": {},
   "source": [
    "Choosing columns below that are relevent for this model"
   ]
  },
  {
   "cell_type": "code",
   "execution_count": 2,
   "metadata": {},
   "outputs": [],
   "source": [
    "dataset = dataset[['MinTemp', 'MaxTemp', 'Evaporation',\n",
    "        'Sunshine', 'WindGustSpeed','WindSpeed9am', 'WindSpeed3pm', 'Humidity9am', 'Humidity3pm',\n",
    "       'Pressure9am', 'Pressure3pm', 'Cloud9am', 'Cloud3pm', 'Temp9am',\n",
    "       'Temp3pm', 'RainTomorrow']].reset_index(drop=True)"
   ]
  },
  {
   "cell_type": "code",
   "execution_count": 3,
   "metadata": {},
   "outputs": [
    {
     "data": {
      "text/html": [
       "<div>\n",
       "<style scoped>\n",
       "    .dataframe tbody tr th:only-of-type {\n",
       "        vertical-align: middle;\n",
       "    }\n",
       "\n",
       "    .dataframe tbody tr th {\n",
       "        vertical-align: top;\n",
       "    }\n",
       "\n",
       "    .dataframe thead th {\n",
       "        text-align: right;\n",
       "    }\n",
       "</style>\n",
       "<table border=\"1\" class=\"dataframe\">\n",
       "  <thead>\n",
       "    <tr style=\"text-align: right;\">\n",
       "      <th></th>\n",
       "      <th>MinTemp</th>\n",
       "      <th>MaxTemp</th>\n",
       "      <th>Evaporation</th>\n",
       "      <th>Sunshine</th>\n",
       "      <th>WindGustSpeed</th>\n",
       "      <th>WindSpeed9am</th>\n",
       "      <th>WindSpeed3pm</th>\n",
       "      <th>Humidity9am</th>\n",
       "      <th>Humidity3pm</th>\n",
       "      <th>Pressure9am</th>\n",
       "      <th>Pressure3pm</th>\n",
       "      <th>Cloud9am</th>\n",
       "      <th>Cloud3pm</th>\n",
       "      <th>Temp9am</th>\n",
       "      <th>Temp3pm</th>\n",
       "      <th>RainTomorrow</th>\n",
       "    </tr>\n",
       "  </thead>\n",
       "  <tbody>\n",
       "    <tr>\n",
       "      <th>0</th>\n",
       "      <td>16.1</td>\n",
       "      <td>22.1</td>\n",
       "      <td>4.2</td>\n",
       "      <td>8.7</td>\n",
       "      <td>31.0</td>\n",
       "      <td>13.0</td>\n",
       "      <td>13.0</td>\n",
       "      <td>70.0</td>\n",
       "      <td>70.0</td>\n",
       "      <td>1020.2</td>\n",
       "      <td>1018.2</td>\n",
       "      <td>2.0</td>\n",
       "      <td>3.0</td>\n",
       "      <td>19.9</td>\n",
       "      <td>20.3</td>\n",
       "      <td>No</td>\n",
       "    </tr>\n",
       "    <tr>\n",
       "      <th>1</th>\n",
       "      <td>11.6</td>\n",
       "      <td>26.4</td>\n",
       "      <td>2.2</td>\n",
       "      <td>10.4</td>\n",
       "      <td>37.0</td>\n",
       "      <td>19.0</td>\n",
       "      <td>17.0</td>\n",
       "      <td>72.0</td>\n",
       "      <td>59.0</td>\n",
       "      <td>1018.4</td>\n",
       "      <td>1015.5</td>\n",
       "      <td>2.0</td>\n",
       "      <td>6.0</td>\n",
       "      <td>19.7</td>\n",
       "      <td>24.0</td>\n",
       "      <td>Yes</td>\n",
       "    </tr>\n",
       "    <tr>\n",
       "      <th>2</th>\n",
       "      <td>12.9</td>\n",
       "      <td>21.5</td>\n",
       "      <td>6.0</td>\n",
       "      <td>10.9</td>\n",
       "      <td>56.0</td>\n",
       "      <td>17.0</td>\n",
       "      <td>33.0</td>\n",
       "      <td>60.0</td>\n",
       "      <td>32.0</td>\n",
       "      <td>1013.8</td>\n",
       "      <td>1012.8</td>\n",
       "      <td>6.0</td>\n",
       "      <td>4.0</td>\n",
       "      <td>13.4</td>\n",
       "      <td>18.9</td>\n",
       "      <td>No</td>\n",
       "    </tr>\n",
       "    <tr>\n",
       "      <th>3</th>\n",
       "      <td>26.6</td>\n",
       "      <td>34.5</td>\n",
       "      <td>6.8</td>\n",
       "      <td>5.7</td>\n",
       "      <td>56.0</td>\n",
       "      <td>9.0</td>\n",
       "      <td>24.0</td>\n",
       "      <td>60.0</td>\n",
       "      <td>57.0</td>\n",
       "      <td>1008.7</td>\n",
       "      <td>1004.7</td>\n",
       "      <td>7.0</td>\n",
       "      <td>7.0</td>\n",
       "      <td>31.5</td>\n",
       "      <td>32.8</td>\n",
       "      <td>Yes</td>\n",
       "    </tr>\n",
       "    <tr>\n",
       "      <th>4</th>\n",
       "      <td>11.4</td>\n",
       "      <td>21.0</td>\n",
       "      <td>3.4</td>\n",
       "      <td>3.4</td>\n",
       "      <td>43.0</td>\n",
       "      <td>28.0</td>\n",
       "      <td>17.0</td>\n",
       "      <td>55.0</td>\n",
       "      <td>41.0</td>\n",
       "      <td>1013.9</td>\n",
       "      <td>1012.7</td>\n",
       "      <td>7.0</td>\n",
       "      <td>7.0</td>\n",
       "      <td>13.9</td>\n",
       "      <td>19.8</td>\n",
       "      <td>No</td>\n",
       "    </tr>\n",
       "  </tbody>\n",
       "</table>\n",
       "</div>"
      ],
      "text/plain": [
       "   MinTemp  MaxTemp  Evaporation  Sunshine  WindGustSpeed  WindSpeed9am  \\\n",
       "0     16.1     22.1          4.2       8.7           31.0          13.0   \n",
       "1     11.6     26.4          2.2      10.4           37.0          19.0   \n",
       "2     12.9     21.5          6.0      10.9           56.0          17.0   \n",
       "3     26.6     34.5          6.8       5.7           56.0           9.0   \n",
       "4     11.4     21.0          3.4       3.4           43.0          28.0   \n",
       "\n",
       "   WindSpeed3pm  Humidity9am  Humidity3pm  Pressure9am  Pressure3pm  Cloud9am  \\\n",
       "0          13.0         70.0         70.0       1020.2       1018.2       2.0   \n",
       "1          17.0         72.0         59.0       1018.4       1015.5       2.0   \n",
       "2          33.0         60.0         32.0       1013.8       1012.8       6.0   \n",
       "3          24.0         60.0         57.0       1008.7       1004.7       7.0   \n",
       "4          17.0         55.0         41.0       1013.9       1012.7       7.0   \n",
       "\n",
       "   Cloud3pm  Temp9am  Temp3pm RainTomorrow  \n",
       "0       3.0     19.9     20.3           No  \n",
       "1       6.0     19.7     24.0          Yes  \n",
       "2       4.0     13.4     18.9           No  \n",
       "3       7.0     31.5     32.8          Yes  \n",
       "4       7.0     13.9     19.8           No  "
      ]
     },
     "execution_count": 3,
     "metadata": {},
     "output_type": "execute_result"
    }
   ],
   "source": [
    "dataset = dataset.dropna()\n",
    "dataset.apply(lambda column: sum(column.isnull()))\n",
    "dataset = dataset.reset_index()\n",
    "del dataset['index']\n",
    "dataset.head()\n"
   ]
  },
  {
   "cell_type": "code",
   "execution_count": 4,
   "metadata": {},
   "outputs": [
    {
     "data": {
      "image/png": "[encoded data removed]",
      "text/plain": [
       "<Figure size 720x360 with 1 Axes>"
      ]
     },
     "metadata": {
      "needs_background": "light"
     },
     "output_type": "display_data"
    }
   ],
   "source": [
    "\n",
    "bx = dataset['RainTomorrow'].value_counts().plot(kind='bar',\n",
    "                                    figsize=(10,5),\n",
    "                                    title=\"Rain Tomorrow Count\", color='blue')\n",
    "bx.set_xlabel(\"Rain Tomorrow Yes or No\")\n",
    "bx.set_ylabel(\"Frequency\")\n",
    "plt.show()"
   ]
  },
  {
   "cell_type": "markdown",
   "metadata": {},
   "source": [
    "Graph below seems to be left skewed"
   ]
  },
  {
   "cell_type": "code",
   "execution_count": 5,
   "metadata": {},
   "outputs": [
    {
     "data": {
      "text/plain": [
       "Text(0, 0.5, 'Count')"
      ]
     },
     "execution_count": 5,
     "metadata": {},
     "output_type": "execute_result"
    },
    {
     "data": {
      "image/png": "[encoded data removed]",
      "text/plain": [
       "<Figure size 432x288 with 1 Axes>"
      ]
     },
     "metadata": {
      "needs_background": "light"
     },
     "output_type": "display_data"
    }
   ],
   "source": [
    "import matplotlib.pyplot as plt\n",
    "import seaborn as sns\n",
    "\n",
    "# matplotlib histogram\n",
    "plt.hist(dataset['MinTemp'], color = 'blue', edgecolor = 'black',\n",
    "         bins = int(180/5))\n",
    "\n",
    "# seaborn histogram\n",
    "sns.distplot(dataset['MinTemp'], hist=True, kde=False, \n",
    "             bins=int(180/5), color = 'blue',\n",
    "             hist_kws={'edgecolor':'black'})\n",
    "# Add labels\n",
    "plt.title('Histogram of MinTemp Delays')\n",
    "plt.xlabel('Min Temp')\n",
    "plt.ylabel('Count')"
   ]
  },
  {
   "cell_type": "markdown",
   "metadata": {},
   "source": [
    "Graph below seems to be left skewed"
   ]
  },
  {
   "cell_type": "code",
   "execution_count": 6,
   "metadata": {},
   "outputs": [
    {
     "data": {
      "text/plain": [
       "Text(0, 0.5, 'Count')"
      ]
     },
     "execution_count": 6,
     "metadata": {},
     "output_type": "execute_result"
    },
    {
     "data": {
      "image/png": "[encoded data removed]",
      "text/plain": [
       "<Figure size 432x288 with 1 Axes>"
      ]
     },
     "metadata": {
      "needs_background": "light"
     },
     "output_type": "display_data"
    }
   ],
   "source": [
    "# matplotlib histogram\n",
    "plt.hist(dataset['MaxTemp'], color = 'blue', edgecolor = 'black',\n",
    "         bins = int(180/5))\n",
    "\n",
    "# seaborn histogram\n",
    "sns.distplot(dataset['MaxTemp'], hist=True, kde=False, \n",
    "             bins=int(180/5), color = 'blue',\n",
    "             hist_kws={'edgecolor':'black'})\n",
    "# Add labels\n",
    "plt.title('Histogram of MaxTemp Delays')\n",
    "plt.xlabel('Max Temp')\n",
    "plt.ylabel('Count')"
   ]
  },
  {
   "cell_type": "markdown",
   "metadata": {},
   "source": [
    "Graph below is right skewed"
   ]
  },
  {
   "cell_type": "code",
   "execution_count": 7,
   "metadata": {},
   "outputs": [
    {
     "data": {
      "text/plain": [
       "Text(0, 0.5, 'Count')"
      ]
     },
     "execution_count": 7,
     "metadata": {},
     "output_type": "execute_result"
    },
    {
     "data": {
      "image/png": "[encoded data removed]",
      "text/plain": [
       "<Figure size 432x288 with 1 Axes>"
      ]
     },
     "metadata": {
      "needs_background": "light"
     },
     "output_type": "display_data"
    }
   ],
   "source": [
    "\n",
    "plt.hist(dataset['Evaporation'], color = 'blue', edgecolor = 'black',\n",
    "         bins = int(180/5))\n",
    "\n",
    "# seaborn histogram\n",
    "sns.distplot(dataset['Evaporation'], hist=True, kde=False, \n",
    "             bins=int(180/5), color = 'blue',\n",
    "             hist_kws={'edgecolor':'black'})\n",
    "# Add labels\n",
    "plt.title('Histogram of Evaporation')\n",
    "plt.xlabel('Evaporation')\n",
    "plt.ylabel('Count')\n"
   ]
  },
  {
   "cell_type": "code",
   "execution_count": 8,
   "metadata": {},
   "outputs": [
    {
     "data": {
      "text/plain": [
       "Text(0, 0.5, 'Count')"
      ]
     },
     "execution_count": 8,
     "metadata": {},
     "output_type": "execute_result"
    },
    {
     "data": {
      "image/png": "[encoded data removed]",
      "text/plain": [
       "<Figure size 432x288 with 1 Axes>"
      ]
     },
     "metadata": {
      "needs_background": "light"
     },
     "output_type": "display_data"
    }
   ],
   "source": [
    "plt.hist(dataset['Sunshine'], color = 'blue', edgecolor = 'black',\n",
    "         bins = int(180/5))\n",
    "\n",
    "# seaborn histogram\n",
    "sns.distplot(dataset['Sunshine'], hist=True, kde=False, \n",
    "             bins=int(180/5), color = 'blue',\n",
    "             hist_kws={'edgecolor':'black'})\n",
    "# Add labels\n",
    "plt.title('Histogram of Sunshine')\n",
    "plt.xlabel('Sunshine')\n",
    "plt.ylabel('Count')\n",
    "\n"
   ]
  },
  {
   "cell_type": "markdown",
   "metadata": {},
   "source": [
    "I used labelencorder to make No as 0 and Yes as 1. The ML model dosn't take string as inputs"
   ]
  },
  {
   "cell_type": "code",
   "execution_count": 10,
   "metadata": {},
   "outputs": [
    {
     "data": {
      "text/html": [
       "<div>\n",
       "<style scoped>\n",
       "    .dataframe tbody tr th:only-of-type {\n",
       "        vertical-align: middle;\n",
       "    }\n",
       "\n",
       "    .dataframe tbody tr th {\n",
       "        vertical-align: top;\n",
       "    }\n",
       "\n",
       "    .dataframe thead th {\n",
       "        text-align: right;\n",
       "    }\n",
       "</style>\n",
       "<table border=\"1\" class=\"dataframe\">\n",
       "  <thead>\n",
       "    <tr style=\"text-align: right;\">\n",
       "      <th></th>\n",
       "      <th>MinTemp</th>\n",
       "      <th>MaxTemp</th>\n",
       "      <th>Evaporation</th>\n",
       "      <th>Sunshine</th>\n",
       "      <th>WindGustSpeed</th>\n",
       "      <th>WindSpeed9am</th>\n",
       "      <th>WindSpeed3pm</th>\n",
       "      <th>Humidity9am</th>\n",
       "      <th>Humidity3pm</th>\n",
       "      <th>Pressure9am</th>\n",
       "      <th>Pressure3pm</th>\n",
       "      <th>Cloud9am</th>\n",
       "      <th>Cloud3pm</th>\n",
       "      <th>Temp9am</th>\n",
       "      <th>Temp3pm</th>\n",
       "      <th>RainTomorrow</th>\n",
       "    </tr>\n",
       "  </thead>\n",
       "  <tbody>\n",
       "    <tr>\n",
       "      <th>0</th>\n",
       "      <td>16.1</td>\n",
       "      <td>22.1</td>\n",
       "      <td>4.2</td>\n",
       "      <td>8.7</td>\n",
       "      <td>31.0</td>\n",
       "      <td>13.0</td>\n",
       "      <td>13.0</td>\n",
       "      <td>70.0</td>\n",
       "      <td>70.0</td>\n",
       "      <td>1020.2</td>\n",
       "      <td>1018.2</td>\n",
       "      <td>2.0</td>\n",
       "      <td>3.0</td>\n",
       "      <td>19.9</td>\n",
       "      <td>20.3</td>\n",
       "      <td>0</td>\n",
       "    </tr>\n",
       "    <tr>\n",
       "      <th>1</th>\n",
       "      <td>11.6</td>\n",
       "      <td>26.4</td>\n",
       "      <td>2.2</td>\n",
       "      <td>10.4</td>\n",
       "      <td>37.0</td>\n",
       "      <td>19.0</td>\n",
       "      <td>17.0</td>\n",
       "      <td>72.0</td>\n",
       "      <td>59.0</td>\n",
       "      <td>1018.4</td>\n",
       "      <td>1015.5</td>\n",
       "      <td>2.0</td>\n",
       "      <td>6.0</td>\n",
       "      <td>19.7</td>\n",
       "      <td>24.0</td>\n",
       "      <td>1</td>\n",
       "    </tr>\n",
       "    <tr>\n",
       "      <th>2</th>\n",
       "      <td>12.9</td>\n",
       "      <td>21.5</td>\n",
       "      <td>6.0</td>\n",
       "      <td>10.9</td>\n",
       "      <td>56.0</td>\n",
       "      <td>17.0</td>\n",
       "      <td>33.0</td>\n",
       "      <td>60.0</td>\n",
       "      <td>32.0</td>\n",
       "      <td>1013.8</td>\n",
       "      <td>1012.8</td>\n",
       "      <td>6.0</td>\n",
       "      <td>4.0</td>\n",
       "      <td>13.4</td>\n",
       "      <td>18.9</td>\n",
       "      <td>0</td>\n",
       "    </tr>\n",
       "    <tr>\n",
       "      <th>3</th>\n",
       "      <td>26.6</td>\n",
       "      <td>34.5</td>\n",
       "      <td>6.8</td>\n",
       "      <td>5.7</td>\n",
       "      <td>56.0</td>\n",
       "      <td>9.0</td>\n",
       "      <td>24.0</td>\n",
       "      <td>60.0</td>\n",
       "      <td>57.0</td>\n",
       "      <td>1008.7</td>\n",
       "      <td>1004.7</td>\n",
       "      <td>7.0</td>\n",
       "      <td>7.0</td>\n",
       "      <td>31.5</td>\n",
       "      <td>32.8</td>\n",
       "      <td>1</td>\n",
       "    </tr>\n",
       "    <tr>\n",
       "      <th>4</th>\n",
       "      <td>11.4</td>\n",
       "      <td>21.0</td>\n",
       "      <td>3.4</td>\n",
       "      <td>3.4</td>\n",
       "      <td>43.0</td>\n",
       "      <td>28.0</td>\n",
       "      <td>17.0</td>\n",
       "      <td>55.0</td>\n",
       "      <td>41.0</td>\n",
       "      <td>1013.9</td>\n",
       "      <td>1012.7</td>\n",
       "      <td>7.0</td>\n",
       "      <td>7.0</td>\n",
       "      <td>13.9</td>\n",
       "      <td>19.8</td>\n",
       "      <td>0</td>\n",
       "    </tr>\n",
       "    <tr>\n",
       "      <th>...</th>\n",
       "      <td>...</td>\n",
       "      <td>...</td>\n",
       "      <td>...</td>\n",
       "      <td>...</td>\n",
       "      <td>...</td>\n",
       "      <td>...</td>\n",
       "      <td>...</td>\n",
       "      <td>...</td>\n",
       "      <td>...</td>\n",
       "      <td>...</td>\n",
       "      <td>...</td>\n",
       "      <td>...</td>\n",
       "      <td>...</td>\n",
       "      <td>...</td>\n",
       "      <td>...</td>\n",
       "      <td>...</td>\n",
       "    </tr>\n",
       "    <tr>\n",
       "      <th>52343</th>\n",
       "      <td>16.4</td>\n",
       "      <td>31.1</td>\n",
       "      <td>5.2</td>\n",
       "      <td>10.9</td>\n",
       "      <td>30.0</td>\n",
       "      <td>9.0</td>\n",
       "      <td>15.0</td>\n",
       "      <td>65.0</td>\n",
       "      <td>50.0</td>\n",
       "      <td>1012.2</td>\n",
       "      <td>1008.8</td>\n",
       "      <td>1.0</td>\n",
       "      <td>6.0</td>\n",
       "      <td>25.7</td>\n",
       "      <td>29.3</td>\n",
       "      <td>0</td>\n",
       "    </tr>\n",
       "    <tr>\n",
       "      <th>52344</th>\n",
       "      <td>11.8</td>\n",
       "      <td>32.5</td>\n",
       "      <td>4.8</td>\n",
       "      <td>10.9</td>\n",
       "      <td>35.0</td>\n",
       "      <td>7.0</td>\n",
       "      <td>9.0</td>\n",
       "      <td>99.0</td>\n",
       "      <td>27.0</td>\n",
       "      <td>1022.9</td>\n",
       "      <td>1018.3</td>\n",
       "      <td>1.0</td>\n",
       "      <td>1.0</td>\n",
       "      <td>16.0</td>\n",
       "      <td>31.7</td>\n",
       "      <td>0</td>\n",
       "    </tr>\n",
       "    <tr>\n",
       "      <th>52345</th>\n",
       "      <td>16.7</td>\n",
       "      <td>22.7</td>\n",
       "      <td>15.2</td>\n",
       "      <td>0.5</td>\n",
       "      <td>46.0</td>\n",
       "      <td>15.0</td>\n",
       "      <td>6.0</td>\n",
       "      <td>67.0</td>\n",
       "      <td>99.0</td>\n",
       "      <td>1008.7</td>\n",
       "      <td>1007.3</td>\n",
       "      <td>7.0</td>\n",
       "      <td>8.0</td>\n",
       "      <td>21.7</td>\n",
       "      <td>19.3</td>\n",
       "      <td>1</td>\n",
       "    </tr>\n",
       "    <tr>\n",
       "      <th>52346</th>\n",
       "      <td>15.7</td>\n",
       "      <td>32.3</td>\n",
       "      <td>8.0</td>\n",
       "      <td>11.3</td>\n",
       "      <td>37.0</td>\n",
       "      <td>9.0</td>\n",
       "      <td>13.0</td>\n",
       "      <td>55.0</td>\n",
       "      <td>23.0</td>\n",
       "      <td>1023.1</td>\n",
       "      <td>1020.3</td>\n",
       "      <td>1.0</td>\n",
       "      <td>2.0</td>\n",
       "      <td>21.0</td>\n",
       "      <td>31.0</td>\n",
       "      <td>0</td>\n",
       "    </tr>\n",
       "    <tr>\n",
       "      <th>52347</th>\n",
       "      <td>5.1</td>\n",
       "      <td>13.8</td>\n",
       "      <td>2.0</td>\n",
       "      <td>7.5</td>\n",
       "      <td>13.0</td>\n",
       "      <td>6.0</td>\n",
       "      <td>6.0</td>\n",
       "      <td>100.0</td>\n",
       "      <td>60.0</td>\n",
       "      <td>1035.1</td>\n",
       "      <td>1034.2</td>\n",
       "      <td>2.0</td>\n",
       "      <td>4.0</td>\n",
       "      <td>6.7</td>\n",
       "      <td>13.4</td>\n",
       "      <td>0</td>\n",
       "    </tr>\n",
       "  </tbody>\n",
       "</table>\n",
       "<p>52348 rows × 16 columns</p>\n",
       "</div>"
      ],
      "text/plain": [
       "       MinTemp  MaxTemp  Evaporation  Sunshine  WindGustSpeed  WindSpeed9am  \\\n",
       "0         16.1     22.1          4.2       8.7           31.0          13.0   \n",
       "1         11.6     26.4          2.2      10.4           37.0          19.0   \n",
       "2         12.9     21.5          6.0      10.9           56.0          17.0   \n",
       "3         26.6     34.5          6.8       5.7           56.0           9.0   \n",
       "4         11.4     21.0          3.4       3.4           43.0          28.0   \n",
       "...        ...      ...          ...       ...            ...           ...   \n",
       "52343     16.4     31.1          5.2      10.9           30.0           9.0   \n",
       "52344     11.8     32.5          4.8      10.9           35.0           7.0   \n",
       "52345     16.7     22.7         15.2       0.5           46.0          15.0   \n",
       "52346     15.7     32.3          8.0      11.3           37.0           9.0   \n",
       "52347      5.1     13.8          2.0       7.5           13.0           6.0   \n",
       "\n",
       "       WindSpeed3pm  Humidity9am  Humidity3pm  Pressure9am  Pressure3pm  \\\n",
       "0              13.0         70.0         70.0       1020.2       1018.2   \n",
       "1              17.0         72.0         59.0       1018.4       1015.5   \n",
       "2              33.0         60.0         32.0       1013.8       1012.8   \n",
       "3              24.0         60.0         57.0       1008.7       1004.7   \n",
       "4              17.0         55.0         41.0       1013.9       1012.7   \n",
       "...             ...          ...          ...          ...          ...   \n",
       "52343          15.0         65.0         50.0       1012.2       1008.8   \n",
       "52344           9.0         99.0         27.0       1022.9       1018.3   \n",
       "52345           6.0         67.0         99.0       1008.7       1007.3   \n",
       "52346          13.0         55.0         23.0       1023.1       1020.3   \n",
       "52347           6.0        100.0         60.0       1035.1       1034.2   \n",
       "\n",
       "       Cloud9am  Cloud3pm  Temp9am  Temp3pm  RainTomorrow  \n",
       "0           2.0       3.0     19.9     20.3             0  \n",
       "1           2.0       6.0     19.7     24.0             1  \n",
       "2           6.0       4.0     13.4     18.9             0  \n",
       "3           7.0       7.0     31.5     32.8             1  \n",
       "4           7.0       7.0     13.9     19.8             0  \n",
       "...         ...       ...      ...      ...           ...  \n",
       "52343       1.0       6.0     25.7     29.3             0  \n",
       "52344       1.0       1.0     16.0     31.7             0  \n",
       "52345       7.0       8.0     21.7     19.3             1  \n",
       "52346       1.0       2.0     21.0     31.0             0  \n",
       "52347       2.0       4.0      6.7     13.4             0  \n",
       "\n",
       "[52348 rows x 16 columns]"
      ]
     },
     "execution_count": 10,
     "metadata": {},
     "output_type": "execute_result"
    }
   ],
   "source": [
    "from sklearn.preprocessing import LabelEncoder\n",
    "\n",
    "labelencoder = LabelEncoder()\n",
    "\n",
    "dataset['RainTomorrow'] = labelencoder.fit_transform(dataset['RainTomorrow'].astype(str))\n",
    "dataset"
   ]
  },
  {
   "cell_type": "code",
   "execution_count": 11,
   "metadata": {},
   "outputs": [],
   "source": [
    "x=dataset.iloc[:, : 15]\n",
    "y=dataset['RainTomorrow']"
   ]
  },
  {
   "cell_type": "code",
   "execution_count": 12,
   "metadata": {},
   "outputs": [],
   "source": [
    "import seaborn as sn\n",
    "import matplotlib.pyplot as plt\n"
   ]
  },
  {
   "cell_type": "markdown",
   "metadata": {},
   "source": [
    "On average below heat map shows high negative or positive coorelation between most of the variables. Hence I have decided to add all the variables in the ML model. "
   ]
  },
  {
   "cell_type": "code",
   "execution_count": 13,
   "metadata": {},
   "outputs": [
    {
     "data": {
      "image/png": "[encoded data removed]",
      "text/plain": [
       "<Figure size 432x288 with 2 Axes>"
      ]
     },
     "metadata": {
      "needs_background": "light"
     },
     "output_type": "display_data"
    }
   ],
   "source": [
    "corr = dataset.corr()\n",
    "ax = sns.heatmap(\n",
    "    corr, \n",
    "    vmin=-1, vmax=1, center=0,\n",
    "    cmap=sns.diverging_palette(20, 220, n=200),\n",
    "    square=True\n",
    ")\n",
    "ax.set_xticklabels(\n",
    "    ax.get_xticklabels(),\n",
    "    rotation=45,\n",
    "    horizontalalignment='right'\n",
    ");"
   ]
  },
  {
   "cell_type": "markdown",
   "metadata": {},
   "source": [
    "### Machine Learning Models\n",
    "I have used three models to see which one of them works best for prediction. <br>\n",
    "(1) Logistic Regression <br>\n",
    "(2) KNN <br>\n",
    "(3) Random Forest <br>\n",
    "I have choosed this algorithims because of the fact that this is a labelled dataset. As Rain Tommorow coloumn either tells 'Yes' Or 'No' if it is going to rain or not. For these type of dataset above three models work the best.\n"
   ]
  },
  {
   "cell_type": "code",
   "execution_count": 14,
   "metadata": {},
   "outputs": [],
   "source": [
    "import matplotlib.pyplot as plt\n",
    "import numpy as np\n",
    "from sklearn.datasets import load_digits\n",
    "from sklearn.linear_model import LogisticRegression\n",
    "from sklearn.metrics import classification_report, confusion_matrix\n",
    "from sklearn.model_selection import train_test_split\n",
    "from sklearn.preprocessing import StandardScaler"
   ]
  },
  {
   "cell_type": "markdown",
   "metadata": {},
   "source": [
    "Divided into test and train dataset"
   ]
  },
  {
   "cell_type": "code",
   "execution_count": 15,
   "metadata": {},
   "outputs": [],
   "source": [
    "x_train, x_test, y_train, y_test =\\\n",
    "    train_test_split(x, y, test_size=0.2, random_state=0) "
   ]
  },
  {
   "cell_type": "code",
   "execution_count": 16,
   "metadata": {},
   "outputs": [],
   "source": [
    "scaler = StandardScaler()\n",
    "x_train = scaler.fit_transform(x_train)\n"
   ]
  },
  {
   "cell_type": "code",
   "execution_count": 17,
   "metadata": {},
   "outputs": [
    {
     "data": {
      "text/plain": [
       "LogisticRegression(C=0.05, class_weight=None, dual=False, fit_intercept=True,\n",
       "                   intercept_scaling=1, l1_ratio=None, max_iter=100,\n",
       "                   multi_class='ovr', n_jobs=None, penalty='l2', random_state=0,\n",
       "                   solver='liblinear', tol=0.0001, verbose=0, warm_start=False)"
      ]
     },
     "execution_count": 17,
     "metadata": {},
     "output_type": "execute_result"
    }
   ],
   "source": [
    "model=LogisticRegression(C=0.05, class_weight=None, dual=False, fit_intercept=True,\n",
    "                   intercept_scaling=1, l1_ratio=None, max_iter=100,\n",
    "                   multi_class='ovr', n_jobs=None, penalty='l2', random_state=0,\n",
    "                   solver='liblinear', tol=0.0001, verbose=0, warm_start=False)\n",
    "model.fit(x_train,y_train)"
   ]
  },
  {
   "cell_type": "code",
   "execution_count": 18,
   "metadata": {},
   "outputs": [],
   "source": [
    "x_test = scaler.transform(x_test)\n",
    "y_pred = model.predict(x_test)\n"
   ]
  },
  {
   "cell_type": "code",
   "execution_count": 19,
   "metadata": {},
   "outputs": [
    {
     "data": {
      "text/plain": [
       "0.8524046038492765"
      ]
     },
     "execution_count": 19,
     "metadata": {},
     "output_type": "execute_result"
    }
   ],
   "source": [
    "model.score(x_train, y_train)"
   ]
  },
  {
   "cell_type": "code",
   "execution_count": 20,
   "metadata": {},
   "outputs": [
    {
     "data": {
      "text/plain": [
       "0.8576886341929322"
      ]
     },
     "execution_count": 20,
     "metadata": {},
     "output_type": "execute_result"
    }
   ],
   "source": [
    "model.score(x_test, y_test)"
   ]
  },
  {
   "cell_type": "code",
   "execution_count": 21,
   "metadata": {},
   "outputs": [
    {
     "name": "stdout",
     "output_type": "stream",
     "text": [
      "[[7757  455]\n",
      " [1035 1223]]\n",
      "              precision    recall  f1-score   support\n",
      "\n",
      "           0       0.88      0.94      0.91      8212\n",
      "           1       0.73      0.54      0.62      2258\n",
      "\n",
      "    accuracy                           0.86     10470\n",
      "   macro avg       0.81      0.74      0.77     10470\n",
      "weighted avg       0.85      0.86      0.85     10470\n",
      "\n"
     ]
    }
   ],
   "source": [
    "from sklearn.metrics import classification_report, confusion_matrix\n",
    "print(confusion_matrix(y_test, y_pred))\n",
    "print(classification_report(y_test, y_pred))"
   ]
  },
  {
   "cell_type": "markdown",
   "metadata": {},
   "source": [
    "Accuracy score alone is not a good indicator to see if the model is best. Precesion=True Positive/(True Positive+False Positive) <br>\n",
    "Recall= True Positive/(True Positive+False Negative). <br>\n",
    "F1_score=(2*precision*recall)/(precision+recall) <br>\n",
    "Above high lights for 0 'NO' the percision and recall values are high for 'YES' the percision and recall values are lesser. \n"
   ]
  },
  {
   "cell_type": "code",
   "execution_count": 22,
   "metadata": {},
   "outputs": [
    {
     "data": {
      "text/plain": [
       "KNeighborsClassifier(algorithm='auto', leaf_size=30, metric='minkowski',\n",
       "                     metric_params=None, n_jobs=None, n_neighbors=5, p=2,\n",
       "                     weights='uniform')"
      ]
     },
     "execution_count": 22,
     "metadata": {},
     "output_type": "execute_result"
    }
   ],
   "source": [
    "from sklearn.neighbors import KNeighborsClassifier\n",
    "classifier = KNeighborsClassifier(n_neighbors=5)\n",
    "classifier.fit(x_train, y_train)"
   ]
  },
  {
   "cell_type": "code",
   "execution_count": 23,
   "metadata": {},
   "outputs": [],
   "source": [
    "y_pred = classifier.predict(x_test)\n"
   ]
  },
  {
   "cell_type": "code",
   "execution_count": 24,
   "metadata": {},
   "outputs": [
    {
     "data": {
      "text/plain": [
       "0.8873155356034195"
      ]
     },
     "execution_count": 24,
     "metadata": {},
     "output_type": "execute_result"
    }
   ],
   "source": [
    "classifier.score(x_train, y_train)\n"
   ]
  },
  {
   "cell_type": "code",
   "execution_count": 25,
   "metadata": {},
   "outputs": [
    {
     "name": "stdout",
     "output_type": "stream",
     "text": [
      "[[7641  571]\n",
      " [1047 1211]]\n",
      "              precision    recall  f1-score   support\n",
      "\n",
      "           0       0.88      0.93      0.90      8212\n",
      "           1       0.68      0.54      0.60      2258\n",
      "\n",
      "    accuracy                           0.85     10470\n",
      "   macro avg       0.78      0.73      0.75     10470\n",
      "weighted avg       0.84      0.85      0.84     10470\n",
      "\n"
     ]
    }
   ],
   "source": [
    "from sklearn.metrics import classification_report, confusion_matrix\n",
    "print(confusion_matrix(y_test, y_pred))\n",
    "print(classification_report(y_test, y_pred))"
   ]
  },
  {
   "cell_type": "markdown",
   "metadata": {},
   "source": [
    "Similar to logistic regression above high lights for 0 'NO' the percision and recall values are high for 'YES' the percision and recall values are lesser."
   ]
  },
  {
   "cell_type": "code",
   "execution_count": 26,
   "metadata": {},
   "outputs": [
    {
     "data": {
      "text/plain": [
       "RandomForestClassifier(bootstrap=True, ccp_alpha=0.0, class_weight=None,\n",
       "                       criterion='entropy', max_depth=3, max_features='auto',\n",
       "                       max_leaf_nodes=None, max_samples=None,\n",
       "                       min_impurity_decrease=0.0, min_impurity_split=None,\n",
       "                       min_samples_leaf=1, min_samples_split=2,\n",
       "                       min_weight_fraction_leaf=0.0, n_estimators=100,\n",
       "                       n_jobs=None, oob_score=False, random_state=None,\n",
       "                       verbose=0, warm_start=False)"
      ]
     },
     "execution_count": 26,
     "metadata": {},
     "output_type": "execute_result"
    }
   ],
   "source": [
    "from sklearn.ensemble import RandomForestClassifier\n",
    "\n",
    "model = RandomForestClassifier(bootstrap=True, class_weight=None, criterion='entropy',\n",
    "            max_depth=3, max_features='auto', max_leaf_nodes=None,\n",
    "            min_impurity_decrease=0.0, min_impurity_split=None,\n",
    "            min_samples_leaf=1, min_samples_split=2,\n",
    "            min_weight_fraction_leaf=0.0, n_estimators=100, n_jobs=None,\n",
    "            oob_score=False, random_state=None, verbose=0,\n",
    "            warm_start=False)\n",
    "\n",
    "model.fit(x_train, y_train)\n"
   ]
  },
  {
   "cell_type": "code",
   "execution_count": 27,
   "metadata": {},
   "outputs": [],
   "source": [
    "y_pr = model.predict(x_test)\n",
    "\n"
   ]
  },
  {
   "cell_type": "raw",
   "metadata": {},
   "source": [
    "print(confusion_matrix(y_test, y_pr))\n",
    "print(classification_report(y_test, y_pr))"
   ]
  },
  {
   "cell_type": "code",
   "execution_count": 29,
   "metadata": {},
   "outputs": [
    {
     "data": {
      "text/plain": [
       "0.8359520511963322"
      ]
     },
     "execution_count": 29,
     "metadata": {},
     "output_type": "execute_result"
    }
   ],
   "source": [
    "model.score(x_train, y_train)"
   ]
  },
  {
   "cell_type": "code",
   "execution_count": 30,
   "metadata": {},
   "outputs": [
    {
     "name": "stdout",
     "output_type": "stream",
     "text": [
      "[[8070  142]\n",
      " [1524  734]]\n",
      "              precision    recall  f1-score   support\n",
      "\n",
      "           0       0.84      0.98      0.91      8212\n",
      "           1       0.84      0.33      0.47      2258\n",
      "\n",
      "    accuracy                           0.84     10470\n",
      "   macro avg       0.84      0.65      0.69     10470\n",
      "weighted avg       0.84      0.84      0.81     10470\n",
      "\n"
     ]
    }
   ],
   "source": [
    "from sklearn.metrics import classification_report, confusion_matrix\n",
    "print(confusion_matrix(y_test, y_pr))\n",
    "print(classification_report(y_test, y_pr))"
   ]
  },
  {
   "cell_type": "markdown",
   "metadata": {},
   "source": [
    "Similar to logistic regression and KNN above high lights for 0 'NO' the percision and recall values are high for 'YES' the percision and recall values are lesser."
   ]
  },
  {
   "cell_type": "markdown",
   "metadata": {},
   "source": [
    "### Conclusion <br>\n",
    "Even though the KNN model has the highest accuracy but the accuracy score depends upon total true positive and true negative values which might not tells us the best model. How ever seeing percesion and recall score of all the model for 0 which is NO, we can see the higher values all together. The problem lied with 'YES' since the number of data presented for 'YES' was lower hence the precesion and recall score would have been lower all togther. We can see best average for logistic regression when it comes for recall and percesion values. In all of 3 logisitic regression holds the slight advantage over KNN and Random forest. Also the f1 scores are best for logistic regression. The results of KNN and logisitic regression are very close. A better decesion between all of the models can be made if more data for 'YES' is added. Only then a better conclusion can be made. But for now logistic regression holds a slighter advantage.\n"
   ]
  },
  {
   "cell_type": "code",
   "execution_count": null,
   "metadata": {},
   "outputs": [],
   "source": []
  }
 ],
 "metadata": {
  "kernelspec": {
   "display_name": "Python 3",
   "language": "python",
   "name": "python3"
  },
  "language_info": {
   "codemirror_mode": {
    "name": "ipython",
    "version": 3
   },
   "file_extension": ".py",
   "mimetype": "text/x-python",
   "name": "python",
   "nbconvert_exporter": "python",
   "pygments_lexer": "ipython3",
   "version": "3.7.6"
  }
 },
 "nbformat": 4,
 "nbformat_minor": 4
}
